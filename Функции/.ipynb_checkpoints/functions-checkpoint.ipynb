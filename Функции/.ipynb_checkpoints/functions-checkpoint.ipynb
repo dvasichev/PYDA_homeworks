{
 "cells": [
  {
   "cell_type": "markdown",
   "metadata": {},
   "source": [
    "Вы работаете секретарем и вам постоянно приходят различные документы. Вы должны быть очень внимательны, чтобы не потерять ни один документ. Каталог документов хранится в следующем виде:"
   ]
  },
  {
   "cell_type": "code",
   "execution_count": 3,
   "metadata": {},
   "outputs": [],
   "source": [
    "documents = [\n",
    "    {'type': 'passport', 'number': '2207 876234', 'name': 'Василий Гупкин'},\n",
    "    {'type': 'invoice', 'number': '11-2', 'name': 'Геннадий Покемонов'},\n",
    "    {'type': 'insurance', 'number': '10006', 'name': 'Аристарх Павлов'}\n",
    "]"
   ]
  },
  {
   "cell_type": "markdown",
   "metadata": {},
   "source": [
    "Перечень полок, на которых находятся документы хранится в следующем виде:"
   ]
  },
  {
   "cell_type": "code",
   "execution_count": 4,
   "metadata": {},
   "outputs": [],
   "source": [
    "directories = {\n",
    "    '1': ['2207 876234', '11-2'],\n",
    "    '2': ['10006'],\n",
    "    '3': []\n",
    "}"
   ]
  },
  {
   "cell_type": "markdown",
   "metadata": {},
   "source": [
    "Необходимо реализовать пользовательские команды (внимание! это не название функций, которые должны быть выразительными, а команды, которые вводит пользователь, чтобы получить необходимый результат):\n",
    "  \n",
    "- p – people – команда, которая спросит номер документа и выведет имя человека, которому он принадлежит;  \n",
    "- s – shelf – команда, которая спросит номер документа и выведет номер полки, на которой он находится  \n",
    "*Правильно обработайте ситуации, когда пользователь будет вводить несуществующий документ*.\n",
    "- l – list – команда, которая выведет список всех документов в формате   \n",
    "**passport \"2207 876234\" \"Василий Гупкин\"**  \n",
    "- as – add shelf – команда, которая спросит номер новой полки и добавит ее в перечень. *Предусмотрите случай, когда пользователь добавляет полку, которая уже существует*.\n",
    "- d – delete – команда, которая спросит номер документа и удалит его из каталога и из перечня полок. *Предусмотрите сценарий, когда пользователь вводит несуществующий документ*;  \n",
    "- m – move – команда, которая спросит номер документа и целевую полку и переместит его с текущей полки на целевую. *Корректно обработайте кейсы, когда пользователь пытается переместить несуществующий документ или переместить документ на несуществующую полку*;  \n",
    "- a – add – команда, которая добавит новый документ в каталог и в перечень полок, спросив его номер, тип, имя владельца и номер полки, на котором он будет храниться. *Корректно обработайте ситуацию, когда пользователь будет пытаться добавить документ на несуществующую полку*."
   ]
  },
  {
   "cell_type": "code",
   "execution_count": 1,
   "metadata": {},
   "outputs": [],
   "source": [
    "documents = [\n",
    "    {'type': 'passport', 'number': '2207 876234', 'name': 'Василий Гупкин'},\n",
    "    {'type': 'invoice', 'number': '11-2', 'name': 'Геннадий Покемонов'},\n",
    "    {'type': 'insurance', 'number': '10006', 'name': 'Аристарх Павлов'}\n",
    "]\n",
    "directories = {\n",
    "    '1': ['2207 876234', '11-2'],\n",
    "    '2': ['10006'],\n",
    "    '3': []\n",
    "}"
   ]
  },
  {
   "cell_type": "code",
   "execution_count": 2,
   "metadata": {},
   "outputs": [
    {
     "name": "stdout",
     "output_type": "stream",
     "text": [
      "Введите команду (\"q\" - выход):p\n",
      "Введите номер документа:11-2\n",
      "Геннадий Покемонов\n",
      "Введите команду (\"q\" - выход):q\n",
      "До свидания!\n"
     ]
    }
   ],
   "source": [
    "def people_shelf(action):\n",
    "    num_doc = input('Введите номер документа:')\n",
    "    if action == 'p':\n",
    "        name = [doc['name'] for doc in documents if doc['number'] == num_doc]\n",
    "    elif action == 's':\n",
    "        name = [shelf for shelf, docs in directories.items() for doc in docs if doc == num_doc]\n",
    "    if name:\n",
    "        print(\"\".join(name))\n",
    "    else:\n",
    "        print('Документ не найден!')\n",
    "def doc_list():\n",
    "    for doc in documents:\n",
    "        print(f'{doc[\"type\"]} \"{doc[\"number\"]}\" \"{doc[\"name\"]}\"')\n",
    "def add_del_shelf(action):\n",
    "    num = input('Введите номер полки:')\n",
    "    if action == 'as':\n",
    "        if num not in directories.keys():\n",
    "            directories[num] = []\n",
    "            print(f'Полка \"{num}\" успешно добавлена!')\n",
    "        else:\n",
    "            print('Введенный номер полки уже существует!')\n",
    "    elif action == 'd':\n",
    "        if num in directories.keys():\n",
    "            del directories[num]\n",
    "            print(f'Полка \"{num}\" успешно удалена!')\n",
    "        else:\n",
    "            print('Введенный номер полки не существует!')\n",
    "def move():\n",
    "    num_doc = input('Введите номер документа:')\n",
    "    for shelf_from, docs in directories.items():\n",
    "        for num in docs:\n",
    "            if num == num_doc:\n",
    "                shelf_to = input('Введите номер целевой полки:')\n",
    "                for shelf in directories.keys():\n",
    "                    if shelf == shelf_to:\n",
    "                        docs.remove(num_doc)\n",
    "                        directories[shelf_to].append(num_doc)\n",
    "                        return print('Документ перемещен!')\n",
    "                return print('Нет полки!')    \n",
    "        return print('Нет документа!')\n",
    "def add_doc():\n",
    "    type_doc = input('Введите тип документа:')\n",
    "    num_doc = input('Введите номер документа:')\n",
    "    name = input('Введите имя владельца:')\n",
    "    num_shelf = input('Введите номер полки:')\n",
    "    if [shelf for shelf in directories.keys() if shelf == num_shelf]:\n",
    "        directories[num_shelf].append(num_doc)\n",
    "        documents.append({'type': type_doc, 'number': num_doc, 'name': name})\n",
    "        return print('Документ добавлен!')\n",
    "    else:\n",
    "        return print('Полка не найдена!')\n",
    "def main():\n",
    "    while True:\n",
    "        action = input('Введите команду (\"q\" - выход):')\n",
    "        if action in ('p','s'):\n",
    "            people_shelf(action)\n",
    "        elif action == 's':\n",
    "            shelf()\n",
    "        elif action == 'l':\n",
    "            doc_list()\n",
    "        elif action in ('as','d'):\n",
    "            add_del_shelf(action)\n",
    "        elif action == 'm':\n",
    "            move()\n",
    "        elif action == 'a':\n",
    "            add_doc()\n",
    "        elif action == 'q':\n",
    "            print('До свидания!')\n",
    "            break \n",
    "        else:\n",
    "            print('Введена некорректная команда!')\n",
    "main()"
   ]
  }
 ],
 "metadata": {
  "kernelspec": {
   "display_name": "Python 3",
   "language": "python",
   "name": "python3"
  },
  "language_info": {
   "codemirror_mode": {
    "name": "ipython",
    "version": 3
   },
   "file_extension": ".py",
   "mimetype": "text/x-python",
   "name": "python",
   "nbconvert_exporter": "python",
   "pygments_lexer": "ipython3",
   "version": "3.6.5"
  }
 },
 "nbformat": 4,
 "nbformat_minor": 2
}
